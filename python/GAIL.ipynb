{
 "cells": [
  {
   "cell_type": "markdown",
   "metadata": {},
   "source": [
    "# Generative Adversarial Imitation Learning"
   ]
  },
  {
   "cell_type": "code",
   "execution_count": null,
   "metadata": {
    "collapsed": true
   },
   "outputs": [],
   "source": [
    "import numpy as np\n",
    "import tensorflow as tf"
   ]
  },
  {
   "cell_type": "code",
   "execution_count": null,
   "metadata": {
    "collapsed": true
   },
   "outputs": [],
   "source": [
    "class Discriminator(object):\n",
    "    def __init__(self, s_size, a_size, h_size, lr):\n",
    "        self.state_in_expert = tf.placeholder(shape=[None, s_size], dtype=tf.float32)\n",
    "        self.action_in_expert = tf.placeholder(shape=[None, a_size], dtype=tf.float32)\n",
    "        self.state_in_policy = tf.placeholder(shape=[None, s_size], dtype=tf.float32)\n",
    "        self.action_in_policy = tf.placeholder(shape=[None, a_size], dtype=tf.float32)\n",
    "        self.s_size = s_size\n",
    "        self.h_size = h_size\n",
    "        self.lr = lr\n",
    "        self.update()\n",
    "        \n",
    "    def get_d(self, state_in, action_in, reuse):\n",
    "        with tf.variable_scope(\"discriminator\"):\n",
    "            concat_input = tf.concat([state_in, action_in], axis=1)\n",
    "            hidden_1 = tf.layers.dense(concat_input, self.h_size, activation=tf.nn.tanh, use_bias=False, name=\"d_hidden_1\", reuse=reuse)\n",
    "            hidden_2 = tf.layers.dense(hidden_1, self.h_size, activation=tf.nn.tanh, use_bias=False, name=\"d_hidden_2\", reuse=reuse)\n",
    "            d = tf.layers.dense(hidden_2, 1, activation=tf.nn.sigmoid, use_bias=False, name=\"d_out\", reuse=reuse)\n",
    "            return d\n",
    "        \n",
    "    def update(self):\n",
    "        self.d_expert = self.get_d(self.state_in_expert, self.action_in_expert, False)\n",
    "        self.d_policy = self.get_d(self.state_in_policy, self.action_in_policy, True)\n",
    "        self.de = tf.reduce_mean(self.d_expert)\n",
    "        self.dp = tf.reduce_mean(self.d_policy)\n",
    "        self.d_loss = tf.reduce_mean(tf.log(self.d_policy + 1e-10) + tf.log(1 - self.d_expert + 1e-10))\n",
    "        optimizer = tf.train.AdamOptimizer(learning_rate=self.lr)\n",
    "        self.update_batch = optimizer.minimize(self.d_loss)"
   ]
  },
  {
   "cell_type": "code",
   "execution_count": null,
   "metadata": {
    "collapsed": true
   },
   "outputs": [],
   "source": [
    "S_exp = np.reshape(np.random.randn(100) / 100, [-1, 1])\n",
    "A_exp = (S_exp > 0) * 1.0"
   ]
  },
  {
   "cell_type": "code",
   "execution_count": null,
   "metadata": {
    "scrolled": true
   },
   "outputs": [],
   "source": [
    "tf.reset_default_graph()\n",
    "\n",
    "disc = Discriminator(1, 1, 32, 1e-3)\n",
    "\n",
    "init = tf.global_variables_initializer()\n",
    "sess = tf.InteractiveSession()"
   ]
  },
  {
   "cell_type": "code",
   "execution_count": null,
   "metadata": {},
   "outputs": [],
   "source": [
    "sess.run(init)\n",
    "for i in range(50000):\n",
    "    S_pol = np.reshape(np.random.randn(100) / 100, [-1, 1])\n",
    "    A_pol = (S_pol < 0) * 1.0\n",
    "    fd = {disc.state_in_expert: S_exp, disc.state_in_policy: S_pol,\n",
    "          disc.action_in_expert: A_exp, disc.action_in_policy: A_pol}\n",
    "    d_e, d_p, loss, _ = sess.run([disc.de, disc.dp, disc.d_loss, disc.update_batch], feed_dict=fd)\n",
    "    if i % 1000 == 0:\n",
    "        print(d_e, d_p, loss)"
   ]
  }
 ],
 "metadata": {
  "kernelspec": {
   "display_name": "Python 3",
   "language": "python",
   "name": "python3"
  },
  "language_info": {
   "codemirror_mode": {
    "name": "ipython",
    "version": 3
   },
   "file_extension": ".py",
   "mimetype": "text/x-python",
   "name": "python",
   "nbconvert_exporter": "python",
   "pygments_lexer": "ipython3",
   "version": "3.6.2"
  }
 },
 "nbformat": 4,
 "nbformat_minor": 2
}
